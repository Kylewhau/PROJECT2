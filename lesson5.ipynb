{
 "cells": [
  {
   "cell_type": "code",
   "execution_count": 1,
   "metadata": {},
   "outputs": [
    {
     "name": "stdout",
     "output_type": "stream",
     "text": [
      "git\n"
     ]
    }
   ],
   "source": [
    "print(\"git\")"
   ]
  },
  {
   "cell_type": "code",
   "execution_count": 1,
   "metadata": {},
   "outputs": [
    {
     "name": "stdout",
     "output_type": "stream",
     "text": [
      "github\n"
     ]
    }
   ],
   "source": [
    "print(\"github\")"
   ]
  },
  {
   "cell_type": "markdown",
   "metadata": {},
   "source": [
    "猜數字遊戲\n",
    "\n",
    "1.產生亂數 >> random (工具箱)\n",
    "\n",
    "ipynb檔可區塊執行\n",
    "py檔\n",
    "\n",
    "內建工具箱: random、math\n",
    "外部工具箱(pypi): pythonr opensource \n",
    "\n",
    "使用內建工具箱: import random\n",
    "funtion>>輸入 random.功能()"
   ]
  }
 ],
 "metadata": {
  "kernelspec": {
   "display_name": "Python 3.11.0 64-bit",
   "language": "python",
   "name": "python3"
  },
  "language_info": {
   "codemirror_mode": {
    "name": "ipython",
    "version": 3
   },
   "file_extension": ".py",
   "mimetype": "text/x-python",
   "name": "python",
   "nbconvert_exporter": "python",
   "pygments_lexer": "ipython3",
   "version": "3.11.0"
  },
  "orig_nbformat": 4,
  "vscode": {
   "interpreter": {
    "hash": "fd3ec8f5f77fe88489f6a3cf66462d12776d885d0278157a9096ab189737ced7"
   }
  }
 },
 "nbformat": 4,
 "nbformat_minor": 2
}
