{
 "cells": [
  {
   "cell_type": "code",
   "execution_count": 1,
   "metadata": {},
   "outputs": [
    {
     "name": "stdout",
     "output_type": "stream",
     "text": [
      "許云赫\n"
     ]
    }
   ],
   "source": [
    "#輸入,input()\n",
    "#輸出,print()\n",
    "name = input(\"請輸入你的姓名\")\n",
    "print(name)"
   ]
  },
  {
   "cell_type": "code",
   "execution_count": 2,
   "metadata": {},
   "outputs": [
    {
     "name": "stdout",
     "output_type": "stream",
     "text": [
      "請輸入你的名字=name\n"
     ]
    }
   ],
   "source": [
    "#變數寫在字串裡只能是字串\n",
    "print(\"請輸入你的名字=name\")"
   ]
  },
  {
   "cell_type": "code",
   "execution_count": 5,
   "metadata": {},
   "outputs": [
    {
     "name": "stdout",
     "output_type": "stream",
     "text": [
      "您的姓名是:許文愷\n"
     ]
    }
   ],
   "source": [
    "#字串插補變數    f \" 您的姓名是{name}\"\n",
    "print(f\"您的姓名是:{name}\")"
   ]
  },
  {
   "cell_type": "code",
   "execution_count": 7,
   "metadata": {},
   "outputs": [
    {
     "name": "stdout",
     "output_type": "stream",
     "text": [
      "您的姓名是許文愷\n",
      "中文分數是78,英文分數是60\n",
      "總分是138,平均是69.0\n"
     ]
    }
   ],
   "source": [
    "name = \"許文愷\"\n",
    "chinese = 78\n",
    "english = 60\n",
    "sum = chinese + english\n",
    "average = sum / 2\n",
    "\n",
    "print(f\"您的姓名是{name}\")\n",
    "print(f\"中文分數是{chinese},英文分數是{english}\")\n",
    "print(f\"總分是{sum},平均是{average}\")"
   ]
  },
  {
   "cell_type": "code",
   "execution_count": 9,
   "metadata": {},
   "outputs": [
    {
     "data": {
      "text/plain": [
       "85"
      ]
     },
     "execution_count": 9,
     "metadata": {},
     "output_type": "execute_result"
    }
   ],
   "source": [
    "#先執行內層函數，再執行外層函數 = 先輸入字串，在輸出整數\n",
    "int(input(\"請輸入國文成績:\"))\n"
   ]
  },
  {
   "cell_type": "code",
   "execution_count": 11,
   "metadata": {},
   "outputs": [
    {
     "name": "stdout",
     "output_type": "stream",
     "text": [
      "國文分數是78,英文分數是90,總分是168\n"
     ]
    }
   ],
   "source": [
    "#先執行內層函數，再執行外層函數 、最後執行變數定義 = 先輸入字串，在輸出整數\n",
    "chinese = int(input(\"請輸入國文成績\"))\n",
    "english = int(input(\"請輸入英文分數\"))\n",
    "\n",
    "Sum= chinese + english\n",
    "print(f\"國文分數是{ chinese},英文分數是{english},總分是{chinese + english}\")\n"
   ]
  },
  {
   "cell_type": "code",
   "execution_count": 12,
   "metadata": {},
   "outputs": [
    {
     "name": "stdout",
     "output_type": "stream",
     "text": [
      "87\n",
      "87\n"
     ]
    }
   ],
   "source": [
    "print(int(87.5))\n",
    "print(int(float(\"87.5\")))"
   ]
  },
  {
   "cell_type": "code",
   "execution_count": 13,
   "metadata": {},
   "outputs": [
    {
     "data": {
      "text/plain": [
       "170"
      ]
     },
     "execution_count": 13,
     "metadata": {},
     "output_type": "execute_result"
    }
   ],
   "source": [
    "\"80 + 90\"\n",
    "#eval,將字串變成運算式\n",
    "eval(\"80 + 90\")\n"
   ]
  },
  {
   "cell_type": "code",
   "execution_count": 15,
   "metadata": {},
   "outputs": [
    {
     "name": "stdout",
     "output_type": "stream",
     "text": [
      "國文分數是85,英文分數是87.1,總分是172.1\n"
     ]
    }
   ],
   "source": [
    "#eval使用時機(可同時運算處理浮點數、整數)\n",
    "chinese = eval(input(\"請輸入國文成績\"))\n",
    "english = eval(input(\"請輸入英文分數\"))\n",
    "\n",
    "Sum= chinese + english\n",
    "print(f\"國文分數是{ chinese},英文分數是{english},總分是{chinese + english}\")"
   ]
  },
  {
   "cell_type": "markdown",
   "metadata": {},
   "source": [
    "運算子優先順序由上而下\n",
    "()\n",
    "**\n",
    "正負\n",
    "* / % //\n",
    "+ -\n",
    "=\n",
    "\n",
    "2 * ( 1 + 2)** 2 - 2** 2 * 2 \n",
    "        3\n",
    "             9\n",
    "                     4\n",
    "                         8\n",
    "   18\n",
    "          =10"
   ]
  },
  {
   "cell_type": "code",
   "execution_count": 16,
   "metadata": {},
   "outputs": [
    {
     "data": {
      "text/plain": [
       "10"
      ]
     },
     "execution_count": 16,
     "metadata": {},
     "output_type": "execute_result"
    }
   ],
   "source": [
    "2 * ( 1 + 2)** 2 - 2** 2 * 2 "
   ]
  },
  {
   "cell_type": "code",
   "execution_count": 17,
   "metadata": {},
   "outputs": [
    {
     "data": {
      "text/plain": [
       "-25"
      ]
     },
     "execution_count": 17,
     "metadata": {},
     "output_type": "execute_result"
    }
   ],
   "source": [
    "#不符合現行運算，正負值須加括號讓運算優先順序往前\n",
    "-5 ** 2"
   ]
  },
  {
   "cell_type": "code",
   "execution_count": 18,
   "metadata": {},
   "outputs": [
    {
     "data": {
      "text/plain": [
       "25"
      ]
     },
     "execution_count": 18,
     "metadata": {},
     "output_type": "execute_result"
    }
   ],
   "source": [
    "(-5)**2"
   ]
  },
  {
   "cell_type": "code",
   "execution_count": 20,
   "metadata": {},
   "outputs": [
    {
     "name": "stdout",
     "output_type": "stream",
     "text": [
      "請計算梯形面積\n",
      "面積是979.0110000000001\n"
     ]
    }
   ],
   "source": [
    "#學校的數學運算\n",
    "#梯形面積\n",
    "\n",
    "print(\"請計算梯形面積\")\n",
    "top=eval(input(\"請輸入上底\"))\n",
    "bottom=eval(input(\"請輸入下底\"))\n",
    "height=eval(input(\"請輸入高\"))\n",
    "\n",
    "print(f\"面積是{(top + bottom) * height / 2 }\")\n"
   ]
  },
  {
   "cell_type": "code",
   "execution_count": 22,
   "metadata": {},
   "outputs": [
    {
     "data": {
      "text/plain": [
       "46"
      ]
     },
     "execution_count": 22,
     "metadata": {},
     "output_type": "execute_result"
    }
   ],
   "source": [
    "#數學工具箱:無條件進位\n",
    "import math\n",
    "math.ceil(45.1)"
   ]
  },
  {
   "cell_type": "code",
   "execution_count": 23,
   "metadata": {},
   "outputs": [
    {
     "data": {
      "text/plain": [
       "45"
      ]
     },
     "execution_count": 23,
     "metadata": {},
     "output_type": "execute_result"
    }
   ],
   "source": [
    "#數學工具箱:無條件捨去\n",
    "math.floor(45.8)"
   ]
  },
  {
   "cell_type": "code",
   "execution_count": 24,
   "metadata": {},
   "outputs": [
    {
     "data": {
      "text/plain": [
       "46"
      ]
     },
     "execution_count": 24,
     "metadata": {},
     "output_type": "execute_result"
    }
   ],
   "source": [
    "#內建函數: 四捨五入\n",
    "round(45.8)\n"
   ]
  },
  {
   "cell_type": "code",
   "execution_count": 25,
   "metadata": {},
   "outputs": [
    {
     "data": {
      "text/plain": [
       "45"
      ]
     },
     "execution_count": 25,
     "metadata": {},
     "output_type": "execute_result"
    }
   ],
   "source": [
    "round(45.2)"
   ]
  }
 ],
 "metadata": {
  "kernelspec": {
   "display_name": "Python 3.10.8 64-bit",
   "language": "python",
   "name": "python3"
  },
  "language_info": {
   "codemirror_mode": {
    "name": "ipython",
    "version": 3
   },
   "file_extension": ".py",
   "mimetype": "text/x-python",
   "name": "python",
   "nbconvert_exporter": "python",
   "pygments_lexer": "ipython3",
   "version": "3.10.8"
  },
  "orig_nbformat": 4,
  "vscode": {
   "interpreter": {
    "hash": "2cecb92da02c8b98f4101d22276476b1c28eb527ceb2bbde7375dd542609dce3"
   }
  }
 },
 "nbformat": 4,
 "nbformat_minor": 2
}
