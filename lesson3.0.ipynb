{
 "cells": [
  {
   "cell_type": "code",
   "execution_count": 1,
   "metadata": {},
   "outputs": [
    {
     "name": "stdout",
     "output_type": "stream",
     "text": [
      "hello! python\n"
     ]
    }
   ],
   "source": [
    "print(\"hello! python\")"
   ]
  },
  {
   "cell_type": "markdown",
   "metadata": {},
   "source": [
    "recall\n",
    "\n",
    "變數名稱 =  建立一個變數\n",
    "變數基本資料類型  1.整數 int  2.浮點數 float 3.字串 str 4.布林直 bool\n",
    "內建FUNCION   print() type() input() round()  \n",
    "進入工具箱(math)  import math   math.floor()  math.celi()\n",
    "轉變資料類型  eval 同時處裡字串、浮點數"
   ]
  },
  {
   "cell_type": "markdown",
   "metadata": {},
   "source": [
    "程式執行流程: 由上到下，機械式執行，執行最後一行\n",
    "\n",
    "流程控制: 讓程式碼有智慧，依前提條件輸入不同執行結果\n",
    "增加智慧\n",
    "判斷(if) >單向選擇  True 執行(縮排程式區塊)  False 不執行\n",
    "         >雙向選擇  if 執行(縮排程式區塊1)    else執行(縮排程式區塊2)  依定會執行只是先選擇執行那一個檔案\n",
    "         >多向選擇\n",
    "V關係運算子:  會傳出布林值(判斷使用V)\n",
    "指定運算子: =  不傳出值\n",
    "數學運算子: 會印出可傳出值"
   ]
  },
  {
   "cell_type": "code",
   "execution_count": 2,
   "metadata": {},
   "outputs": [
    {
     "data": {
      "text/plain": [
       "False"
      ]
     },
     "execution_count": 2,
     "metadata": {},
     "output_type": "execute_result"
    }
   ],
   "source": [
    "x=7\n",
    "x==5 #比較運算子"
   ]
  },
  {
   "cell_type": "code",
   "execution_count": 3,
   "metadata": {},
   "outputs": [
    {
     "data": {
      "text/plain": [
       "True"
      ]
     },
     "execution_count": 3,
     "metadata": {},
     "output_type": "execute_result"
    }
   ],
   "source": [
    "x==7 #比較運算子"
   ]
  },
  {
   "cell_type": "code",
   "execution_count": 6,
   "metadata": {},
   "outputs": [
    {
     "name": "stdout",
     "output_type": "stream",
     "text": [
      "沒有複習\n",
      "不及格\n",
      "程式結束\n"
     ]
    }
   ],
   "source": [
    "chinese_str = input(\"請輸入國文分數:\")\n",
    "chinese_int = int(chinese_str)\n",
    "if chinese_int >= 60:\n",
    "    print(f\"國文分數是{chinese_int}\")\n",
    "    print(\"及格\")\n",
    "else:\n",
    "    print(\"沒有複習\")\n",
    "    print(\"不及格\")\n",
    "print(\"程式結束\")\n"
   ]
  },
  {
   "cell_type": "markdown",
   "metadata": {},
   "source": [
    "多向選擇 if: elif:  elif: else: \n",
    "\n",
    "if bool: > TRUE執行程式區塊  1\n",
    "elif bool >TRUE執行程式區塊  2 \n",
    "elif bool >TRUE執行程式區塊  3\n",
    "else: > FALSE程式執行區塊    4\n",
    "出現至少執行一個程式區塊\n",
    "\n",
    "如果1，2皆正確，會執行那個語言>會先執行第一個，因為已執行完跳出程式，不再進行比對判斷\n",
    "如果要執行程式區塊2，1.FALSE 2.TRUE\n",
    "         程式區塊3，1.FALSE 2.FALES 3.TRUE"
   ]
  },
  {
   "cell_type": "code",
   "execution_count": 8,
   "metadata": {},
   "outputs": [
    {
     "name": "stdout",
     "output_type": "stream",
     "text": [
      "丁\n"
     ]
    }
   ],
   "source": [
    "#多行文字三個點\n",
    "'''\n",
    "90(含)~100分為[優]\n",
    "80(含)~89分為[甲]\n",
    "70(含)~79分為[乙]\n",
    "60(含)~69分為[丙]\n",
    "0(含)~59分為[丁]\n",
    "'''\n",
    "\n",
    "chinese = int(input(\"請輸入國文分數\"))\n",
    "if chinese >=90:\n",
    "    print(\"優\")\n",
    "elif chinese >=80:\n",
    "    print(\"甲\")\n",
    "elif chinese >=70:\n",
    "    print(\"乙\")\n",
    "elif chinese >=60:\n",
    "    print(\"丙\")\n",
    "else:\n",
    "    print(\"丁\")\n",
    "\n"
   ]
  },
  {
   "cell_type": "markdown",
   "metadata": {},
   "source": []
  },
  {
   "cell_type": "markdown",
   "metadata": {},
   "source": [
    "巢狀判斷 : 兩個條件以上(架構大中小分類，有優先順序)"
   ]
  }
 ],
 "metadata": {
  "kernelspec": {
   "display_name": "Python 3.10.8 64-bit",
   "language": "python",
   "name": "python3"
  },
  "language_info": {
   "codemirror_mode": {
    "name": "ipython",
    "version": 3
   },
   "file_extension": ".py",
   "mimetype": "text/x-python",
   "name": "python",
   "nbconvert_exporter": "python",
   "pygments_lexer": "ipython3",
   "version": "3.10.8"
  },
  "orig_nbformat": 4,
  "vscode": {
   "interpreter": {
    "hash": "2cecb92da02c8b98f4101d22276476b1c28eb527ceb2bbde7375dd542609dce3"
   }
  }
 },
 "nbformat": 4,
 "nbformat_minor": 2
}
