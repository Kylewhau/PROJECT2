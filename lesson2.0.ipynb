{
 "cells": [
  {
   "cell_type": "code",
   "execution_count": 1,
   "metadata": {},
   "outputs": [
    {
     "data": {
      "text/plain": [
       "45.5"
      ]
     },
     "execution_count": 1,
     "metadata": {},
     "output_type": "execute_result"
    }
   ],
   "source": [
    "#前兩行資料皆無保存，浪費力氣\n",
    "10 + 50\n",
    "20 + 70\n",
    "30 + 15.5"
   ]
  },
  {
   "cell_type": "code",
   "execution_count": 3,
   "metadata": {},
   "outputs": [
    {
     "data": {
      "text/plain": [
       "45.5"
      ]
     },
     "execution_count": 3,
     "metadata": {},
     "output_type": "execute_result"
    }
   ],
   "source": [
    "#變數用於保存資料延續計算\n",
    "# 開頭第一個字不能是數字\n",
    "#可使用大小寫字母或_\n",
    "#大小寫字母視為不同變數\n",
    "#不可空白\n",
    "#例子: a1 = 10 (= 指定運算子)\n",
    "# = 最後才做的運算子 (夏例為先算+ 再算 = )\n",
    "a1 = 10 + 50\n",
    "a2 = 20 + 70\n",
    "a3 = 30 + 15.5\n",
    "#沒有傳出東西，傳出NONE\n",
    "\n",
    "a1\n",
    "a2\n",
    "a3\n",
    "#只傳出最後一行"
   ]
  },
  {
   "cell_type": "code",
   "execution_count": 4,
   "metadata": {},
   "outputs": [
    {
     "name": "stdout",
     "output_type": "stream",
     "text": [
      "60\n",
      "90\n",
      "45.5\n"
     ]
    }
   ],
   "source": [
    "#變數用於保存資料延續計算\n",
    "# 開頭第一個字不能是數字\n",
    "#可使用大小寫字母或_\n",
    "#大小寫字母視為不同變數\n",
    "#不可空白\n",
    "#例子: a1 = 10 (= 指定運算子)\n",
    "# = 最後才做的運算子 (夏例為先算+ 再算 = )\n",
    "a1 = 10 + 50\n",
    "a2 = 20 + 70\n",
    "a3 = 30 + 15.5\n",
    "#沒有傳出東西，傳出NONE\n",
    "#變數的作用在於暫時儲存值\n",
    "print(a1)\n",
    "print(a2)\n",
    "print(a3)"
   ]
  },
  {
   "cell_type": "code",
   "execution_count": 5,
   "metadata": {},
   "outputs": [
    {
     "name": "stdout",
     "output_type": "stream",
     "text": [
      "<class 'int'>\n",
      "<class 'int'>\n",
      "<class 'float'>\n"
     ]
    }
   ],
   "source": [
    "#先執行內層，在執行外層\n",
    "print(type(a1))\n",
    "print(type(a2))\n",
    "print(type(a3))"
   ]
  },
  {
   "cell_type": "code",
   "execution_count": 10,
   "metadata": {},
   "outputs": [
    {
     "name": "stdout",
     "output_type": "stream",
     "text": [
      "<class 'int'>\n",
      "<class 'float'>\n",
      "<class 'str'>\n",
      "<class 'bool'>\n"
     ]
    }
   ],
   "source": [
    "#python語言變數為動態型別\n",
    "d = 50\n",
    "print(type(d))\n",
    "\n",
    "d = 50.0\n",
    "print(type(d))\n",
    "\n",
    "d = \"50.0\"\n",
    "print(type(d))\n",
    "\n",
    "d = False\n",
    "print(type(d))"
   ]
  },
  {
   "cell_type": "code",
   "execution_count": null,
   "metadata": {},
   "outputs": [],
   "source": [
    "#python內建的funtion input()=輸入 print()=輸出 [promp]=提示字串(str)\n"
   ]
  }
 ],
 "metadata": {
  "kernelspec": {
   "display_name": "Python 3.10.8 64-bit",
   "language": "python",
   "name": "python3"
  },
  "language_info": {
   "codemirror_mode": {
    "name": "ipython",
    "version": 3
   },
   "file_extension": ".py",
   "mimetype": "text/x-python",
   "name": "python",
   "nbconvert_exporter": "python",
   "pygments_lexer": "ipython3",
   "version": "3.10.8"
  },
  "orig_nbformat": 4,
  "vscode": {
   "interpreter": {
    "hash": "2cecb92da02c8b98f4101d22276476b1c28eb527ceb2bbde7375dd542609dce3"
   }
  }
 },
 "nbformat": 4,
 "nbformat_minor": 2
}
