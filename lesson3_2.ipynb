{
 "cells": [
  {
   "cell_type": "markdown",
   "metadata": {},
   "source": [
    "兩個條件以上，可使用\n",
    "1.巢狀判斷\n",
    "2.邏輯運算子X(and、or、not)\n",
    "   bool X bool >bool\n",
    "   true and true > true 嚴格得到TRUE\n",
    "   true or false > true 不嚴格得到TRUE \n",
    "   not true > false"
   ]
  },
  {
   "cell_type": "code",
   "execution_count": null,
   "metadata": {},
   "outputs": [],
   "source": [
    "#邏輯運算子\n",
    "chinese = int(input(\"請輸入國文分數\"))\n",
    "english = int(input(\"請輸入英文分數\"))\n",
    "bonus = 0 \n",
    "\n",
    "if chinese == 100 and english == 100:\n",
    "    bonus = 1000\n",
    "elif chinese == 100 or english == 100:\n",
    "    bonus = 500\n",
    "else:\n",
    "    bonus = 0\n",
    "print(f\"獎金是{bonus}\")\n"
   ]
  },
  {
   "cell_type": "code",
   "execution_count": null,
   "metadata": {},
   "outputs": [],
   "source": [
    "#計算bmi\n",
    "\n",
    "from sre_parse import State\n",
    "\n",
    "\n",
    "height = eval(input(\"請輸入身高(公分):\"))\n",
    "weight = eval(input(\"請輸入體重(公斤):\"))\n",
    "bmi = weight /( height / 100) ** 2\n",
    "\n",
    "print(f\"bmi={bmi}\")\n",
    "\n",
    "if bmi < 18.5:    #由小範圍到大範圍\n",
    "   state = \"體重過輕\"\n",
    "elif bmi < 24:\n",
    "   state = \"正常\"\n",
    "elif bmi <27 :\n",
    "   stste = \"體重過重\"\n",
    "elif bmi <30:\n",
    "    state =\"輕度肥胖\"\n",
    "elif bmi < 35:\n",
    "    state=\"中度肥胖\"\n",
    "else:\n",
    "    state= \"重度肥胖\"\n",
    "print(state)\n",
    "\n",
    "   "
   ]
  }
 ],
 "metadata": {
  "kernelspec": {
   "display_name": "Python 3.10.8 64-bit",
   "language": "python",
   "name": "python3"
  },
  "language_info": {
   "codemirror_mode": {
    "name": "ipython",
    "version": 3
   },
   "file_extension": ".py",
   "mimetype": "text/x-python",
   "name": "python",
   "nbconvert_exporter": "python",
   "pygments_lexer": "ipython3",
   "version": "3.10.8"
  },
  "orig_nbformat": 4,
  "vscode": {
   "interpreter": {
    "hash": "2cecb92da02c8b98f4101d22276476b1c28eb527ceb2bbde7375dd542609dce3"
   }
  }
 },
 "nbformat": 4,
 "nbformat_minor": 2
}
