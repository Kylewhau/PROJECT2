{
 "cells": [
  {
   "cell_type": "code",
   "execution_count": 60,
   "metadata": {},
   "outputs": [
    {
     "data": {
      "text/plain": [
       "0.20863228149473445"
      ]
     },
     "execution_count": 60,
     "metadata": {},
     "output_type": "execute_result"
    }
   ],
   "source": [
    "import random\n",
    "random.random()"
   ]
  },
  {
   "cell_type": "code",
   "execution_count": 69,
   "metadata": {},
   "outputs": [
    {
     "ename": "TypeError",
     "evalue": "'float' object is not callable",
     "output_type": "error",
     "traceback": [
      "\u001b[1;31m---------------------------------------------------------------------------\u001b[0m",
      "\u001b[1;31mTypeError\u001b[0m                                 Traceback (most recent call last)",
      "Cell \u001b[1;32mIn [69], line 1\u001b[0m\n\u001b[1;32m----> 1\u001b[0m \u001b[39mprint\u001b[39;49m(random\u001b[39m.\u001b[39;49muniform(\u001b[39m1\u001b[39;49m,\u001b[39m10\u001b[39;49m))\n\u001b[0;32m      2\u001b[0m \u001b[39mprint\u001b[39m(random\u001b[39m.\u001b[39muniform(\u001b[39m99\u001b[39m,\u001b[39m100\u001b[39m))\n",
      "\u001b[1;31mTypeError\u001b[0m: 'float' object is not callable"
     ]
    }
   ],
   "source": [
    "print(random.uniform(1,10))\n",
    "print(random.uniform(99,100))"
   ]
  },
  {
   "cell_type": "code",
   "execution_count": 70,
   "metadata": {},
   "outputs": [
    {
     "ename": "TypeError",
     "evalue": "'float' object is not callable",
     "output_type": "error",
     "traceback": [
      "\u001b[1;31m---------------------------------------------------------------------------\u001b[0m",
      "\u001b[1;31mTypeError\u001b[0m                                 Traceback (most recent call last)",
      "Cell \u001b[1;32mIn [70], line 4\u001b[0m\n\u001b[0;32m      2\u001b[0m \u001b[39mmax\u001b[39m \u001b[39m=\u001b[39m \u001b[39m10\u001b[39m\n\u001b[0;32m      3\u001b[0m random_value \u001b[39m=\u001b[39m random\u001b[39m.\u001b[39mrandint(\u001b[39mmin\u001b[39m,\u001b[39mmax\u001b[39m)\n\u001b[1;32m----> 4\u001b[0m \u001b[39mprint\u001b[39;49m(\u001b[39m\"\u001b[39;49m\u001b[39m=============猜數字遊戲=================\u001b[39;49m\u001b[39m\"\u001b[39;49m)\n\u001b[0;32m      5\u001b[0m \u001b[39mwhile\u001b[39;00m \u001b[39mTrue\u001b[39;00m:\n\u001b[0;32m      6\u001b[0m     keyin \u001b[39m=\u001b[39m \u001b[39mint\u001b[39m(\u001b[39minput\u001b[39m(\u001b[39mf\u001b[39m\u001b[39m\"\u001b[39m\u001b[39m猜數字的範圍\u001b[39m\u001b[39m{\u001b[39;00m\u001b[39mmin\u001b[39m\u001b[39m}\u001b[39;00m\u001b[39m~\u001b[39m\u001b[39m{\u001b[39;00m\u001b[39mmax\u001b[39m\u001b[39m}\u001b[39;00m\u001b[39m:\u001b[39m\u001b[39m\"\u001b[39m))\n",
      "\u001b[1;31mTypeError\u001b[0m: 'float' object is not callable"
     ]
    }
   ],
   "source": [
    "min = 1\n",
    "max = 10\n",
    "random_value = random.randint(min,max)\n",
    "print(\"=============猜數字遊戲=================\")\n",
    "while True:\n",
    "    keyin = int(input(f\"猜數字的範圍{min}~{max}:\"))\n",
    "    if(keyin == random_value):\n",
    "        print(f\"猜對了,答案是:{random_value}\")\n",
    "        break\n",
    "    else:\n",
    "        print(\"猜錯了\")\n",
    "\n",
    "print(\"遊戲結束\")"
   ]
  },
  {
   "cell_type": "code",
   "execution_count": 66,
   "metadata": {},
   "outputs": [
    {
     "ename": "TypeError",
     "evalue": "'float' object is not callable",
     "output_type": "error",
     "traceback": [
      "\u001b[1;31m---------------------------------------------------------------------------\u001b[0m",
      "\u001b[1;31mTypeError\u001b[0m                                 Traceback (most recent call last)",
      "Cell \u001b[1;32mIn [66], line 5\u001b[0m\n\u001b[0;32m      3\u001b[0m count \u001b[39m=\u001b[39m \u001b[39m0\u001b[39m\n\u001b[0;32m      4\u001b[0m random_value \u001b[39m=\u001b[39m random\u001b[39m.\u001b[39mrandint(\u001b[39mmin\u001b[39m,\u001b[39mmax\u001b[39m)\n\u001b[1;32m----> 5\u001b[0m \u001b[39mprint\u001b[39;49m(\u001b[39m\"\u001b[39;49m\u001b[39m=============猜數字遊戲=================\u001b[39;49m\u001b[39m\"\u001b[39;49m)\n\u001b[0;32m      6\u001b[0m \u001b[39mwhile\u001b[39;00m \u001b[39mTrue\u001b[39;00m:\n\u001b[0;32m      7\u001b[0m     count \u001b[39m+\u001b[39m\u001b[39m=\u001b[39m \u001b[39m1\u001b[39m\n",
      "\u001b[1;31mTypeError\u001b[0m: 'float' object is not callable"
     ]
    }
   ],
   "source": [
    "min = 1\n",
    "max = 10\n",
    "count = 0\n",
    "random_value = random.randint(min,max)\n",
    "print(\"=============猜數字遊戲=================\")\n",
    "while True:\n",
    "    count += 1\n",
    "    keyin = int(input(f\"猜數字的範圍{min}~{max}:\"))\n",
    "    if(keyin == random_value):\n",
    "        print(f\"猜對了,答案是:{random_value}\")\n",
    "        print(f\"您總共猜{count}次\")\n",
    "        break\n",
    "    else:\n",
    "        print(\"猜錯了\")\n",
    "\n",
    "print(\"遊戲結束\")\n"
   ]
  },
  {
   "cell_type": "code",
   "execution_count": 67,
   "metadata": {},
   "outputs": [
    {
     "ename": "IndentationError",
     "evalue": "unexpected indent (1292745788.py, line 9)",
     "output_type": "error",
     "traceback": [
      "\u001b[1;36m  Cell \u001b[1;32mIn [67], line 9\u001b[1;36m\u001b[0m\n\u001b[1;33m    if(keyin == random_value):\u001b[0m\n\u001b[1;37m    ^\u001b[0m\n\u001b[1;31mIndentationError\u001b[0m\u001b[1;31m:\u001b[0m unexpected indent\n"
     ]
    }
   ],
   "source": [
    "min = 1\n",
    "max = 10\n",
    "count = 0\n",
    "random_value = random.randint(min,max)\n",
    "print(\"=============猜數字遊戲=================\")\n",
    "while True:\n",
    "    count += 1\n",
    "    keyin = int(input(f\"猜數字的範圍{min}~{max}:\"))\n",
    "     if(keyin == random_value):\n",
    "        print(f\"猜對了,答案是:{random_value}\")\n",
    "        print(f\"您總共猜{count}次\")\n",
    "        break\n",
    "    else:\n",
    "        print(\"猜錯了\")\n",
    "\n",
    "print(\"遊戲結束\")"
   ]
  }
 ],
 "metadata": {
  "kernelspec": {
   "display_name": "Python 3.11.0 64-bit",
   "language": "python",
   "name": "python3"
  },
  "language_info": {
   "codemirror_mode": {
    "name": "ipython",
    "version": 3
   },
   "file_extension": ".py",
   "mimetype": "text/x-python",
   "name": "python",
   "nbconvert_exporter": "python",
   "pygments_lexer": "ipython3",
   "version": "3.11.0"
  },
  "orig_nbformat": 4,
  "vscode": {
   "interpreter": {
    "hash": "fd3ec8f5f77fe88489f6a3cf66462d12776d885d0278157a9096ab189737ced7"
   }
  }
 },
 "nbformat": 4,
 "nbformat_minor": 2
}
